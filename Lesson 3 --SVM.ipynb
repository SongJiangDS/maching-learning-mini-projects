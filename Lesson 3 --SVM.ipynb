{
 "cells": [
  {
   "cell_type": "code",
   "execution_count": 1,
   "metadata": {},
   "outputs": [],
   "source": [
    "import sys\n",
    "sys.path.append('E:/Data Science/ML/ud120-projects/tools/')\n",
    "sys.path.append('E:/Data Science/ML/ud120-projects/choose_your_own')\n",
    "sys.path.append('E:/Data Science/ML/ud120-projects/svm')\n",
    "\n",
    "import os\n",
    "os.chdir('E:/Data Science/ML/ud120-projects/svm')"
   ]
  },
  {
   "cell_type": "markdown",
   "metadata": {},
   "source": [
    "# SVM Author ID Accuracy"
   ]
  },
  {
   "cell_type": "code",
   "execution_count": 2,
   "metadata": {},
   "outputs": [
    {
     "name": "stderr",
     "output_type": "stream",
     "text": [
      "D:\\Python\\Anaconda2\\lib\\site-packages\\sklearn\\cross_validation.py:41: DeprecationWarning: This module was deprecated in version 0.18 in favor of the model_selection module into which all the refactored classes and functions are moved. Also note that the interface of the new CV iterators are different from that of this module. This module will be removed in 0.20.\n",
      "  \"This module will be removed in 0.20.\", DeprecationWarning)\n"
     ]
    },
    {
     "name": "stdout",
     "output_type": "stream",
     "text": [
      "no. of Chris training emails: 7936\n",
      "no. of Sara training emails: 7884\n",
      "\n",
      "training time: 1459.935 s\n",
      "predicting time: 31.288 s\n",
      "\n",
      "accuracy = 0.984072810011\n"
     ]
    }
   ],
   "source": [
    "from sklearn.svm import SVC\n",
    "from sklearn.metrics import accuracy_score\n",
    "\n",
    "from time import time\n",
    "from email_preprocess import preprocess\n",
    "\n",
    "\n",
    "### features_train and features_test are the features for the training\n",
    "### and testing datasets, respectively\n",
    "### labels_train and labels_test are the corresponding item labels\n",
    "features_train, features_test, labels_train, labels_test = preprocess()\n",
    "\n",
    "\n",
    "def my_svm(features_train, features_test, labels_train, labels_test, kernel='linear', C=1.0):\n",
    "    # the classifier\n",
    "    clf = SVC(kernel=kernel, C=C)\n",
    "\n",
    "    # train\n",
    "    t0 = time()\n",
    "    clf.fit(features_train, labels_train)\n",
    "    print '\\ntraining time:', round(time()-t0, 3), 's'\n",
    "\n",
    "    # predict\n",
    "    t0 = time()\n",
    "    pred = clf.predict(features_test)\n",
    "    print 'predicting time:', round(time()-t0, 3), 's'\n",
    "\n",
    "    accuracy = accuracy_score(pred, labels_test)\n",
    "\n",
    "    print '\\naccuracy = {0}'.format(accuracy)\n",
    "    return pred\n",
    "\n",
    "pred = my_svm(features_train, features_test, labels_train, labels_test)"
   ]
  },
  {
   "cell_type": "markdown",
   "metadata": {},
   "source": [
    "# A Smaller Training Set"
   ]
  },
  {
   "cell_type": "code",
   "execution_count": 3,
   "metadata": {},
   "outputs": [
    {
     "name": "stdout",
     "output_type": "stream",
     "text": [
      "\n",
      "training time: 0.209 s\n",
      "predicting time: 2.154 s\n",
      "\n",
      "accuracy = 0.884527872582\n"
     ]
    }
   ],
   "source": [
    "features_train2 = features_train[:len(features_train)/100] \n",
    "labels_train2 = labels_train[:len(labels_train)/100] \n",
    "\n",
    "pred = my_svm(features_train2, features_test, labels_train2, labels_test)"
   ]
  },
  {
   "cell_type": "markdown",
   "metadata": {},
   "source": [
    "# Deploy an RBF Kernel"
   ]
  },
  {
   "cell_type": "code",
   "execution_count": 4,
   "metadata": {},
   "outputs": [
    {
     "name": "stdout",
     "output_type": "stream",
     "text": [
      "\n",
      "training time: 0.2 s\n",
      "predicting time: 2.384 s\n",
      "\n",
      "accuracy = 0.616040955631\n"
     ]
    }
   ],
   "source": [
    "pred = my_svm(features_train2, features_test, labels_train2, labels_test, 'rbf')"
   ]
  },
  {
   "cell_type": "markdown",
   "metadata": {},
   "source": [
    "# Optimize C Parameter"
   ]
  },
  {
   "cell_type": "code",
   "execution_count": 5,
   "metadata": {},
   "outputs": [
    {
     "name": "stdout",
     "output_type": "stream",
     "text": [
      "C = 10 \n",
      "training time: 0.352 s\n",
      "predicting time: 2.491 s\n",
      "\n",
      "accuracy = 0.616040955631\n",
      "\n",
      "\n",
      "\n",
      "C = 100 \n",
      "training time: 0.179 s\n",
      "predicting time: 2.568 s\n",
      "\n",
      "accuracy = 0.616040955631\n",
      "\n",
      "\n",
      "\n",
      "C = 1000 \n",
      "training time: 0.198 s\n",
      "predicting time: 2.363 s\n",
      "\n",
      "accuracy = 0.821387940842\n",
      "\n",
      "\n",
      "\n",
      "C = 10000 \n",
      "training time: 0.205 s\n",
      "predicting time: 1.795 s\n",
      "\n",
      "accuracy = 0.892491467577\n",
      "\n",
      "\n",
      "\n"
     ]
    }
   ],
   "source": [
    "for C in [10, 100, 1000, 10000]:\n",
    "    print 'C =',C,\n",
    "    pred = my_svm(features_train2, features_test, labels_train2, labels_test, kernel='rbf', C=C)\n",
    "    print '\\n\\n'"
   ]
  },
  {
   "cell_type": "markdown",
   "metadata": {},
   "source": [
    "# Optimized RBF vs. Linear SVM: Accuracy"
   ]
  },
  {
   "cell_type": "code",
   "execution_count": 6,
   "metadata": {},
   "outputs": [
    {
     "name": "stdout",
     "output_type": "stream",
     "text": [
      "\n",
      "training time: 207.432 s\n",
      "predicting time: 21.422 s\n",
      "\n",
      "accuracy = 0.990898748578\n"
     ]
    }
   ],
   "source": [
    "pred = my_svm(features_train, features_test, labels_train, labels_test, kernel='rbf', C=10000)"
   ]
  },
  {
   "cell_type": "markdown",
   "metadata": {},
   "source": [
    "# Extracting Predictions from an SVM"
   ]
  },
  {
   "cell_type": "code",
   "execution_count": 7,
   "metadata": {},
   "outputs": [
    {
     "name": "stdout",
     "output_type": "stream",
     "text": [
      "1\n",
      "0\n",
      "1\n"
     ]
    }
   ],
   "source": [
    "print pred[10]\n",
    "print pred[26]\n",
    "print pred[50]"
   ]
  },
  {
   "cell_type": "markdown",
   "metadata": {},
   "source": [
    "# How Many Chris Emails Predicted?"
   ]
  },
  {
   "cell_type": "code",
   "execution_count": 8,
   "metadata": {},
   "outputs": [
    {
     "name": "stdout",
     "output_type": "stream",
     "text": [
      "877\n"
     ]
    }
   ],
   "source": [
    "print sum(pred)"
   ]
  }
 ],
 "metadata": {
  "kernelspec": {
   "display_name": "Python 2",
   "language": "python",
   "name": "python2"
  },
  "language_info": {
   "codemirror_mode": {
    "name": "ipython",
    "version": 2
   },
   "file_extension": ".py",
   "mimetype": "text/x-python",
   "name": "python",
   "nbconvert_exporter": "python",
   "pygments_lexer": "ipython2",
   "version": "2.7.14"
  }
 },
 "nbformat": 4,
 "nbformat_minor": 2
}
